{
 "cells": [
  {
   "cell_type": "code",
   "execution_count": null,
   "metadata": {},
   "outputs": [],
   "source": [
    "import pandas as pd\n",
    "import json\n",
    "from os import listdir\n",
    "import time\n",
    "import numpy as np\n",
    "import zipfile"
   ]
  },
  {
   "cell_type": "code",
   "execution_count": null,
   "metadata": {},
   "outputs": [],
   "source": [
    "# Reading the source file and creating Pandas DataFrame:\n",
    "\n",
    "def doJob(fileName, sourceFilesDir, outputFilesDir, compres=False): # zip results if \"compres\" is true\n",
    "    with open(sourceFilesDir + \"/\" + fileName) as fp:\n",
    "        line = fp.readline()\n",
    "        dfs = []\n",
    "        while line:\n",
    "            dateName = line[:16].split(\"\\\"\")[3] # parsing the date from the line to create the column name\n",
    "            j1 = json.loads(line)\n",
    "            prices = []\n",
    "            volumes = []\n",
    "            for aCouple in j1['p']:\n",
    "                prices.append(aCouple['p'])\n",
    "                volumes.append(aCouple['v'])\n",
    "            dfs.append(pd.DataFrame(data=volumes, index=prices, columns=[dateName]))\n",
    "            line = fp.readline()\n",
    "    df_strict = pd.concat(dfs, axis=1, sort=False)\n",
    "    \n",
    "    # Save the compacted file to the output directory:\n",
    "    df_strict.to_csv(outputFilesDir + \"/\" + fileName)\n",
    "    if compres:\n",
    "        zip_file = zipfile.ZipFile(outputFilesDir + \"/%s.zip\" %fileName, \"w\", zipfile.ZIP_DEFLATED)\n",
    "        zip_file.write(outputFilesDir + \"/\" + fileName)\n",
    "        zip_file.close()"
   ]
  },
  {
   "cell_type": "code",
   "execution_count": null,
   "metadata": {},
   "outputs": [],
   "source": [
    "sourceFilesDir = \"Source_Files\"\n",
    "outputFilesDir = \"Output_Files\"\n",
    "\n",
    "# read names of all source files:\n",
    "sourceFilesNames = listdir(sourceFilesDir)\n",
    "\n",
    "# do the job for all source files:\n",
    "for aSoureFileName in sourceFilesNames:\n",
    "    doJob(aSoureFileName, sourceFilesDir, outputFilesDir, compres=True)"
   ]
  },
  {
   "cell_type": "code",
   "execution_count": null,
   "metadata": {},
   "outputs": [],
   "source": []
  }
 ],
 "metadata": {
  "kernelspec": {
   "display_name": "Python 2",
   "language": "python",
   "name": "python2"
  },
  "language_info": {
   "codemirror_mode": {
    "name": "ipython",
    "version": 2
   },
   "file_extension": ".py",
   "mimetype": "text/x-python",
   "name": "python",
   "nbconvert_exporter": "python",
   "pygments_lexer": "ipython2",
   "version": "2.7.15"
  }
 },
 "nbformat": 4,
 "nbformat_minor": 2
}
