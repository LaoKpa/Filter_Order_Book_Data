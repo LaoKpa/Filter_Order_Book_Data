{
 "cells": [
  {
   "cell_type": "code",
   "execution_count": 171,
   "metadata": {},
   "outputs": [],
   "source": [
    "import pandas as pd\n",
    "import json\n",
    "from os import listdir\n"
   ]
  },
  {
   "cell_type": "code",
   "execution_count": 193,
   "metadata": {},
   "outputs": [],
   "source": [
    "def findUniquePrices(fileName, sourceFilesDir):\n",
    "    uniquePrices = []\n",
    "    with open(sourceFilesDir + \"/\" + fileName) as fp:\n",
    "        line = fp.readline()\n",
    "        while line:\n",
    "            j1 = json.loads(line)\n",
    "            for i in range(len(j1['p'])):\n",
    "                price = j1['p'][i]['p']\n",
    "                if (price in uniquePrices) == False:\n",
    "                    uniquePrices.append(price)   \n",
    "            line = fp.readline()\n",
    "    uniquePrices.sort()\n",
    "    \n",
    "    return uniquePrices\n"
   ]
  },
  {
   "cell_type": "code",
   "execution_count": 194,
   "metadata": {},
   "outputs": [],
   "source": [
    "def cleanRow(row):\n",
    "    aRow = row.tolist()\n",
    "    i = len(aRow) - 1\n",
    "    while i > 0:\n",
    "        if aRow[i] == aRow[i - 1]:\n",
    "            aRow[i] = \"\"\n",
    "        i -= 1\n",
    "    return aRow"
   ]
  },
  {
   "cell_type": "code",
   "execution_count": 195,
   "metadata": {},
   "outputs": [],
   "source": [
    "# Reading the source file and creating Pandas DataFrame:\n",
    "\n",
    "def doJob(fileName, sourceFilesDir, outputFilesDir, compres=False): # zip results if \"compres\" is true\n",
    "    # Prepare the list of all prices present in the source file:\n",
    "    uniquePrices = findUniquePrices(fileName, sourceFilesDir)\n",
    "\n",
    "    df_strict = pd.DataFrame({\"Price\" : uniquePrices})\n",
    "    df_strict.index = df_strict.Price\n",
    "    df_strict.drop(columns=\"Price\", inplace=True)\n",
    "\n",
    "    with open(sourceFilesDir + \"/\" + fileName) as fp:\n",
    "        line = fp.readline()\n",
    "        while line:\n",
    "            dateName = line[:16].split(\"\\\"\")[3] # parsing the date from the line to create the column name\n",
    "            df_strict[dateName] = \"\" # added a new column with the corresponding name\n",
    "\n",
    "            j1 = json.loads(line)\n",
    "            for i in range(len(j1['p'])):\n",
    "                df_strict.loc[j1['p'][i]['p'], dateName] = j1['p'][i]['v']\n",
    "            line = fp.readline()\n",
    "\n",
    "    # replacing all empty values by zero:\n",
    "    df_strict.replace(\"\", 0, inplace=True)\n",
    "\n",
    "    # sompacting the data by saving only the values when they change:\n",
    "    for anIndex in range(len(df_strict.index)):\n",
    "        df_strict.loc[df_strict.index[anIndex]] = cleanRow(df_strict.loc[df_strict.index[anIndex]])\n",
    "        \n",
    "    # Save the compacted file to the output directory:\n",
    "    df_strict.to_csv(outputFilesDir + \"/\" + fileName)\n",
    "    if compres:\n",
    "        zip_file = zipfile.ZipFile(outputFilesDir + \"/%s.zip\" %fileName, \"w\")\n",
    "        zip_file.write(outputFilesDir + \"/\" + fileName)\n",
    "        zip_file.close()\n"
   ]
  },
  {
   "cell_type": "code",
   "execution_count": 196,
   "metadata": {},
   "outputs": [],
   "source": [
    "sourceFilesDir = \"Source_Files\"\n",
    "outputFilesDir = \"Output_Files\"\n",
    "\n",
    "# read names of all source files:\n",
    "sourceFilesNames = listdir(sourceFilesDir)\n",
    "\n",
    "# do the job for all source files:\n",
    "for aSoureFileName in sourceFilesNames:\n",
    "    doJob(aSoureFileName, sourceFilesDir, outputFilesDir)"
   ]
  },
  {
   "cell_type": "code",
   "execution_count": null,
   "metadata": {},
   "outputs": [],
   "source": []
  }
 ],
 "metadata": {
  "kernelspec": {
   "display_name": "Python 2",
   "language": "python",
   "name": "python2"
  },
  "language_info": {
   "codemirror_mode": {
    "name": "ipython",
    "version": 2
   },
   "file_extension": ".py",
   "mimetype": "text/x-python",
   "name": "python",
   "nbconvert_exporter": "python",
   "pygments_lexer": "ipython2",
   "version": "2.7.15"
  }
 },
 "nbformat": 4,
 "nbformat_minor": 2
}
